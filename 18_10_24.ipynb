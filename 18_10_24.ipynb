{
  "nbformat": 4,
  "nbformat_minor": 0,
  "metadata": {
    "colab": {
      "provenance": []
    },
    "kernelspec": {
      "name": "python3",
      "display_name": "Python 3"
    },
    "language_info": {
      "name": "python"
    }
  },
  "cells": [
    {
      "cell_type": "markdown",
      "source": [
        "1. Implement a K-Nearest Neighbors (KNN) Algorithm"
      ],
      "metadata": {
        "id": "9N9j8dty61iZ"
      }
    },
    {
      "cell_type": "code",
      "execution_count": 1,
      "metadata": {
        "colab": {
          "base_uri": "https://localhost:8080/"
        },
        "id": "jN0Df2yy6fYE",
        "outputId": "dd2331fe-4809-4929-e054-9219fe8b01fc"
      },
      "outputs": [
        {
          "output_type": "stream",
          "name": "stdout",
          "text": [
            "B\n"
          ]
        }
      ],
      "source": [
        "from typing import List, Tuple\n",
        "import math\n",
        "from collections import Counter\n",
        "\n",
        "def euclidean_distance(point1: Tuple[float, float], point2: Tuple[float, float]) -> float:\n",
        "    return math.sqrt((point1[0] - point2[0]) ** 2 + (point1[1] - point2[1]) ** 2)\n",
        "\n",
        "def knn_classifier(data_points: List[Tuple[float, float, str]],\n",
        "                   new_point: Tuple[float, float],\n",
        "                   k: int = 3) -> str:\n",
        "    # Calculate distances from the new point to all data points\n",
        "    distances = []\n",
        "    for (x, y, label) in data_points:\n",
        "        distance = euclidean_distance(new_point, (x, y))\n",
        "        distances.append((distance, label))\n",
        "\n",
        "    # Sort distances and get the k nearest labels\n",
        "    distances.sort(key=lambda x: x[0])\n",
        "    k_nearest_labels = [label for _, label in distances[:k]]\n",
        "\n",
        "    # Vote for the most common label among the k nearest\n",
        "    most_common_label = Counter(k_nearest_labels).most_common(1)[0][0]\n",
        "\n",
        "    return most_common_label\n",
        "\n",
        "data_points = [\n",
        "    (1.0, 2.0, 'A'),\n",
        "    (2.0, 3.0, 'A'),\n",
        "    (3.0, 3.0, 'B'),\n",
        "    (6.0, 5.0, 'B'),\n",
        "    (7.0, 8.0, 'C')\n",
        "]\n",
        "new_point = (5.0, 5.0)\n",
        "predicted_label = knn_classifier(data_points, new_point)\n",
        "print(predicted_label)  # Output will be the predicted label for the new point"
      ]
    },
    {
      "cell_type": "markdown",
      "source": [
        "2. Remove Outliers from Data"
      ],
      "metadata": {
        "id": "cUwuLxVC7J2w"
      }
    },
    {
      "cell_type": "code",
      "source": [
        "from typing import List\n",
        "import numpy as np\n",
        "\n",
        "def remove_outliers(data: List[float]) -> List[float]:\n",
        "    if not data:  # Return an empty list if the input is empty\n",
        "        return []\n",
        "\n",
        "    # Calculate the mean and standard deviation\n",
        "    mean = np.mean(data)\n",
        "    std_dev = np.std(data)\n",
        "\n",
        "    # Define the thresholds for outliers\n",
        "    lower_bound = mean - 2 * std_dev\n",
        "    upper_bound = mean + 2 * std_dev\n",
        "\n",
        "    # Filter the data to remove outliers\n",
        "    filtered_data = [x for x in data if lower_bound <= x <= upper_bound]\n",
        "\n",
        "    return filtered_data\n",
        "\n",
        "data = [10, 12, 12, 13, 12, 100, 14, 11, 13, 12]\n",
        "cleaned_data = remove_outliers(data)\n",
        "print(cleaned_data)  # This will output the list without outliers"
      ],
      "metadata": {
        "colab": {
          "base_uri": "https://localhost:8080/"
        },
        "id": "zQtBty727Mp2",
        "outputId": "a77127b2-7d8f-45c4-a557-49719ea76423"
      },
      "execution_count": 2,
      "outputs": [
        {
          "output_type": "stream",
          "name": "stdout",
          "text": [
            "[10, 12, 12, 13, 12, 14, 11, 13, 12]\n"
          ]
        }
      ]
    },
    {
      "cell_type": "markdown",
      "source": [
        "3. Optimize a Matrix Multiplication for Neural Network"
      ],
      "metadata": {
        "id": "91QfUpLx8xjN"
      }
    },
    {
      "cell_type": "code",
      "source": [
        "from typing import List\n",
        "\n",
        "def matrix_multiply(mat1: List[List[int]], mat2: List[List[int]]) -> List[List[int]]:\n",
        "    # Check if the matrices can be multiplied\n",
        "    if not mat1 or not mat2 or len(mat1[0]) != len(mat2):\n",
        "        raise ValueError(\"Incompatible matrices for multiplication.\")\n",
        "\n",
        "    # Dimensions of the resulting matrix\n",
        "    rows_mat1 = len(mat1)\n",
        "    cols_mat1 = len(mat1[0])\n",
        "    cols_mat2 = len(mat2[0])\n",
        "\n",
        "    # Initialize the result matrix with zeros\n",
        "    result = [[0] * cols_mat2 for _ in range(rows_mat1)]\n",
        "\n",
        "    # Perform matrix multiplication\n",
        "    for i in range(rows_mat1):\n",
        "        for j in range(cols_mat2):\n",
        "            for k in range(cols_mat1):  # or len(mat2), as len(mat1[0]) == len(mat2)\n",
        "                result[i][j] += mat1[i][k] * mat2[k][j]\n",
        "\n",
        "    return result\n",
        "\n",
        "mat1 = [\n",
        "    [1, 2, 3],\n",
        "    [4, 5, 6]\n",
        "]\n",
        "\n",
        "mat2 = [\n",
        "    [7, 8],\n",
        "    [9, 10],\n",
        "    [11, 12]\n",
        "]\n",
        "\n",
        "result = matrix_multiply(mat1, mat2)\n",
        "print(result)  # Output: [[58, 64], [139, 154]]"
      ],
      "metadata": {
        "colab": {
          "base_uri": "https://localhost:8080/"
        },
        "id": "kgM0YAHz80Wa",
        "outputId": "7b9f3a9a-3ffa-46c2-d72f-7d4b32a0fced"
      },
      "execution_count": 3,
      "outputs": [
        {
          "output_type": "stream",
          "name": "stdout",
          "text": [
            "[[58, 64], [139, 154]]\n"
          ]
        }
      ]
    },
    {
      "cell_type": "markdown",
      "source": [
        "4. Word Embedding Similarity"
      ],
      "metadata": {
        "id": "3xhHBdlBCHFv"
      }
    },
    {
      "cell_type": "code",
      "source": [
        "from typing import List\n",
        "import math\n",
        "\n",
        "def cosine_similarity(vec1: List[float], vec2: List[float]) -> float:\n",
        "    # Check if the vectors are of the same length\n",
        "    if len(vec1) != len(vec2) or len(vec1) == 0:\n",
        "        raise ValueError(\"Vectors must be of the same length and non-empty.\")\n",
        "\n",
        "    # Calculate the dot product\n",
        "    dot_product = sum(a * b for a, b in zip(vec1, vec2))\n",
        "\n",
        "    # Calculate the magnitudes\n",
        "    magnitude_vec1 = math.sqrt(sum(a ** 2 for a in vec1))\n",
        "    magnitude_vec2 = math.sqrt(sum(b ** 2 for b in vec2))\n",
        "\n",
        "    # Check for zero magnitude to avoid division by zero\n",
        "    if magnitude_vec1 == 0 or magnitude_vec2 == 0:\n",
        "        return 0.0  # or raise an error, depending on how you want to handle it\n",
        "\n",
        "    # Calculate and return cosine similarity\n",
        "    return dot_product / (magnitude_vec1 * magnitude_vec2)\n",
        "\n",
        "vec1 = [1.0, 2.0, 3.0]\n",
        "vec2 = [4.0, 5.0, 6.0]\n",
        "\n",
        "similarity = cosine_similarity(vec1, vec2)\n",
        "print(similarity)  # Output: cosine similarity value"
      ],
      "metadata": {
        "colab": {
          "base_uri": "https://localhost:8080/"
        },
        "id": "W7mwdSarCH--",
        "outputId": "42663217-a658-4620-a805-84dc9939a937"
      },
      "execution_count": 4,
      "outputs": [
        {
          "output_type": "stream",
          "name": "stdout",
          "text": [
            "0.9746318461970762\n"
          ]
        }
      ]
    },
    {
      "cell_type": "markdown",
      "source": [
        "5. Implement a Min-Heap Using a Priority Queue"
      ],
      "metadata": {
        "id": "itQqBtKTKkVM"
      }
    },
    {
      "cell_type": "code",
      "source": [
        "import heapq\n",
        "\n",
        "class MinHeap:\n",
        "    def __init__(self):\n",
        "        # Initialize an empty list to store the heap elements\n",
        "        self.heap = []\n",
        "\n",
        "    def insert(self, value: int) -> None:\n",
        "        # Use heapq to push the new value onto the heap\n",
        "        heapq.heappush(self.heap, value)\n",
        "\n",
        "    def get_min(self) -> int:\n",
        "        # Return the smallest element without removing it\n",
        "        if not self.heap:\n",
        "            raise IndexError(\"get_min from an empty heap.\")\n",
        "        return self.heap[0]\n",
        "\n",
        "    def extract_min(self) -> int:\n",
        "        # Pop and return the smallest element from the heap\n",
        "        if not self.heap:\n",
        "            raise IndexError(\"extract_min from an empty heap.\")\n",
        "        return heapq.heappop(self.heap)\n",
        "\n",
        "# Example usage\n",
        "if __name__ == \"__main__\":\n",
        "    min_heap = MinHeap()\n",
        "    min_heap.insert(5)\n",
        "    min_heap.insert(3)\n",
        "    min_heap.insert(8)\n",
        "\n",
        "    print(\"Minimum value:\", min_heap.get_min())  # Output: 3\n",
        "    print(\"Extracted minimum:\", min_heap.extract_min())  # Output: 3\n",
        "    print(\"New minimum value:\", min_heap.get_min())  # Output: 5\\"
      ],
      "metadata": {
        "colab": {
          "base_uri": "https://localhost:8080/"
        },
        "id": "0l0O5T4_KlFf",
        "outputId": "a11fa326-f321-4a6d-a4ee-8fce6274ac24"
      },
      "execution_count": 5,
      "outputs": [
        {
          "output_type": "stream",
          "name": "stdout",
          "text": [
            "Minimum value: 3\n",
            "Extracted minimum: 3\n",
            "New minimum value: 5\n"
          ]
        }
      ]
    },
    {
      "cell_type": "markdown",
      "source": [
        "6. Implement a Support Vector Machine (SVM) Classifier"
      ],
      "metadata": {
        "id": "lxE4QC1hKu7J"
      }
    },
    {
      "cell_type": "code",
      "source": [
        "from typing import List, Tuple\n",
        "import numpy as np\n",
        "\n",
        "def svm_classifier(data_points: List[Tuple[float, float, str]],\n",
        "                   new_point: Tuple[float, float]) -> str:\n",
        "    # Prepare the data\n",
        "    X = np.array([[x, y] for x, y, _ in data_points])\n",
        "    y = np.array([1 if label == 'A' else -1 for _, _, label in data_points])\n",
        "\n",
        "    # Initialize weights and bias\n",
        "    weights = np.zeros(X.shape[1])\n",
        "    bias = 0.0\n",
        "    learning_rate = 0.01\n",
        "    epochs = 1000\n",
        "\n",
        "    # Training the SVM using a simple version of the Perceptron\n",
        "    for _ in range(epochs):\n",
        "        for idx, x_i in enumerate(X):\n",
        "            # Calculate the decision function\n",
        "            if y[idx] * (np.dot(x_i, weights) + bias) >= 1:\n",
        "                # Correctly classified\n",
        "                weights -= learning_rate * (2 * 0.01 * weights)  # Regularization term\n",
        "            else:\n",
        "                # Incorrectly classified\n",
        "                weights += learning_rate * (y[idx] * x_i)\n",
        "                bias += learning_rate * y[idx]\n",
        "\n",
        "    # Prediction for the new point\n",
        "    new_point_array = np.array(new_point)\n",
        "    decision_value = np.dot(new_point_array, weights) + bias\n",
        "\n",
        "    return 'A' if decision_value >= 0 else 'B'\n",
        "\n",
        "# Example usage\n",
        "data_points = [\n",
        "    (1.0, 2.0, 'A'),\n",
        "    (2.0, 3.0, 'A'),\n",
        "    (3.0, 1.0, 'B'),\n",
        "    (5.0, 2.0, 'B'),\n",
        "]\n",
        "new_point = (4.0, 2.5)\n",
        "\n",
        "predicted_label = svm_classifier(data_points, new_point)\n",
        "print(predicted_label)  # Output: Predicted label for the new point"
      ],
      "metadata": {
        "colab": {
          "base_uri": "https://localhost:8080/"
        },
        "id": "poMyzV1YK0xh",
        "outputId": "dd58211f-530e-4c74-9725-2e9a11db0027"
      },
      "execution_count": 6,
      "outputs": [
        {
          "output_type": "stream",
          "name": "stdout",
          "text": [
            "B\n"
          ]
        }
      ]
    },
    {
      "cell_type": "markdown",
      "source": [
        "7. Calculate the Z-Score of Data"
      ],
      "metadata": {
        "id": "FopzT5iKK5VW"
      }
    },
    {
      "cell_type": "code",
      "source": [
        "from typing import List\n",
        "import math\n",
        "\n",
        "def calculate_z_scores(data: List[float]) -> List[float]:\n",
        "    if len(data) == 0:\n",
        "        raise ValueError(\"Data list cannot be empty.\")\n",
        "\n",
        "    # Calculate the mean\n",
        "    mean = sum(data) / len(data)\n",
        "\n",
        "    # Calculate the standard deviation\n",
        "    variance = sum((x - mean) ** 2 for x in data) / len(data)\n",
        "    std_dev = math.sqrt(variance)\n",
        "\n",
        "    # Calculate z-scores\n",
        "    z_scores = [(x - mean) / std_dev for x in data]\n",
        "\n",
        "    return z_scores\n",
        "\n",
        "# Example usage\n",
        "data = [10, 20, 30, 40, 50]\n",
        "z_scores = calculate_z_scores(data)\n",
        "print(z_scores)  # Output: Z-scores for the given data"
      ],
      "metadata": {
        "colab": {
          "base_uri": "https://localhost:8080/"
        },
        "id": "ynBJL_q0K89o",
        "outputId": "53f2a269-2af0-4132-c6b7-19387ae7e1ec"
      },
      "execution_count": 7,
      "outputs": [
        {
          "output_type": "stream",
          "name": "stdout",
          "text": [
            "[-1.414213562373095, -0.7071067811865475, 0.0, 0.7071067811865475, 1.414213562373095]\n"
          ]
        }
      ]
    },
    {
      "cell_type": "markdown",
      "source": [
        "8. K-Means Clustering Implementation"
      ],
      "metadata": {
        "id": "XgxI9oM5dS3n"
      }
    },
    {
      "cell_type": "code",
      "source": [
        "from typing import List, Tuple\n",
        "import random\n",
        "import numpy as np\n",
        "\n",
        "def calculate_distance(point1: Tuple[float, float], point2: Tuple[float, float]) -> float:\n",
        "    return np.sqrt((point1[0] - point2[0]) ** 2 + (point1[1] - point2[1]) ** 2)\n",
        "\n",
        "def k_means_clustering(data_points: List[Tuple[float, float]], k: int) -> List[Tuple[float, float]]:\n",
        "    # Randomly initialize the centroids\n",
        "    centroids = random.sample(data_points, k)\n",
        "    prev_centroids = None\n",
        "\n",
        "    while centroids != prev_centroids:\n",
        "        # Assign clusters\n",
        "        clusters = [[] for _ in range(k)]\n",
        "\n",
        "        for point in data_points:\n",
        "            # Find the nearest centroid\n",
        "            distances = [calculate_distance(point, centroid) for centroid in centroids]\n",
        "            nearest_centroid_idx = distances.index(min(distances))\n",
        "            clusters[nearest_centroid_idx].append(point)\n",
        "\n",
        "        # Update centroids\n",
        "        prev_centroids = centroids.copy()\n",
        "        centroids = []\n",
        "\n",
        "        for cluster in clusters:\n",
        "            if cluster:  # Avoid division by zero\n",
        "                centroid = (np.mean([p[0] for p in cluster]), np.mean([p[1] for p in cluster]))\n",
        "                centroids.append(centroid)\n",
        "            else:\n",
        "                # If a cluster is empty, reinitialize its centroid randomly\n",
        "                centroids.append(random.choice(data_points))\n",
        "\n",
        "    return centroids\n",
        "\n",
        "# Example usage\n",
        "data_points = [\n",
        "    (1.0, 2.0),\n",
        "    (1.5, 1.8),\n",
        "    (5.0, 8.0),\n",
        "    (8.0, 8.0),\n",
        "    (1.0, 0.6),\n",
        "    (9.0, 11.0)\n",
        "]\n",
        "k = 2\n",
        "\n",
        "centroids = k_means_clustering(data_points, k)\n",
        "print(\"Centroids:\", centroids)  # Output: Final centroids after clustering"
      ],
      "metadata": {
        "colab": {
          "base_uri": "https://localhost:8080/"
        },
        "id": "IoKtgWbGddkj",
        "outputId": "1dcee355-ab89-47c2-f77f-5fe0858ec577"
      },
      "execution_count": 1,
      "outputs": [
        {
          "output_type": "stream",
          "name": "stdout",
          "text": [
            "Centroids: [(7.333333333333333, 9.0), (1.1666666666666667, 1.4666666666666666)]\n"
          ]
        }
      ]
    },
    {
      "cell_type": "markdown",
      "source": [
        "9. Evaluate Classification Model Using F1 Score"
      ],
      "metadata": {
        "id": "VSt8vPjZdcdg"
      }
    },
    {
      "cell_type": "code",
      "source": [
        "from typing import List\n",
        "\n",
        "def f1_score(true_labels: List[int], predicted_labels: List[int]) -> float:\n",
        "    if len(true_labels) == 0 or len(true_labels) != len(predicted_labels):\n",
        "        raise ValueError(\"Input lists must be of the same non-zero length.\")\n",
        "\n",
        "    # Initialize counts\n",
        "    TP = FP = FN = 0\n",
        "\n",
        "    # Calculate TP, FP, and FN\n",
        "    for true, pred in zip(true_labels, predicted_labels):\n",
        "        if true == 1 and pred == 1:\n",
        "            TP += 1  # True Positive\n",
        "        elif true == 0 and pred == 1:\n",
        "            FP += 1  # False Positive\n",
        "        elif true == 1 and pred == 0:\n",
        "            FN += 1  # False Negative\n",
        "\n",
        "    # Calculate precision and recall\n",
        "    precision = TP / (TP + FP) if (TP + FP) > 0 else 0.0\n",
        "    recall = TP / (TP + FN) if (TP + FN) > 0 else 0.0\n",
        "\n",
        "    # Calculate F1 Score\n",
        "    if precision + recall > 0:\n",
        "        f1 = 2 * (precision * recall) / (precision + recall)\n",
        "    else:\n",
        "        f1 = 0.0  # F1 Score is zero if both precision and recall are zero\n",
        "\n",
        "    return f1\n",
        "\n",
        "# Example usage\n",
        "true_labels = [1, 0, 1, 1, 0, 1, 0]\n",
        "predicted_labels = [1, 0, 1, 0, 0, 1, 1]\n",
        "\n",
        "f1 = f1_score(true_labels, predicted_labels)\n",
        "print(\"F1 Score:\", f1)  # Output: F1 Score"
      ],
      "metadata": {
        "colab": {
          "base_uri": "https://localhost:8080/"
        },
        "id": "w8l_dFRrdhdv",
        "outputId": "20bf77da-bbe8-4b92-96ed-a52bf67fea34"
      },
      "execution_count": 2,
      "outputs": [
        {
          "output_type": "stream",
          "name": "stdout",
          "text": [
            "F1 Score: 0.75\n"
          ]
        }
      ]
    },
    {
      "cell_type": "markdown",
      "source": [
        "10. Visualize Data Distribution Using a Histogram"
      ],
      "metadata": {
        "id": "qMtNdO8zdsf0"
      }
    },
    {
      "cell_type": "code",
      "source": [
        "from typing import List, Dict\n",
        "\n",
        "def create_histogram(data: List[float], bins: int) -> Dict[str, int]:\n",
        "    if bins <= 0:\n",
        "        raise ValueError(\"Number of bins must be a positive integer.\")\n",
        "    if not data:\n",
        "        return {}\n",
        "\n",
        "    min_data = min(data)\n",
        "    max_data = max(data)\n",
        "\n",
        "    # Calculate the bin width\n",
        "    bin_width = (max_data - min_data) / bins\n",
        "\n",
        "    # Initialize the histogram dictionary\n",
        "    histogram = {f\"{min_data + i * bin_width:.2f} - {min_data + (i + 1) * bin_width:.2f}\": 0 for i in range(bins)}\n",
        "\n",
        "    # Count the data points in each bin\n",
        "    for value in data:\n",
        "        # Determine which bin the value falls into\n",
        "        bin_index = int((value - min_data) / bin_width)\n",
        "        if bin_index == bins:  # Edge case for the maximum value\n",
        "            bin_index -= 1\n",
        "        # Update the count in the appropriate bin\n",
        "        bin_key = f\"{min_data + bin_index * bin_width:.2f} - {min_data + (bin_index + 1) * bin_width:.2f}\"\n",
        "        histogram[bin_key] += 1\n",
        "\n",
        "    return histogram\n",
        "\n",
        "# Example usage\n",
        "data = [1.2, 2.4, 2.2, 3.5, 4.0, 5.5, 6.7, 7.8, 2.3, 4.6]\n",
        "bins = 5\n",
        "\n",
        "histogram = create_histogram(data, bins)\n",
        "print(\"Histogram:\", histogram)"
      ],
      "metadata": {
        "colab": {
          "base_uri": "https://localhost:8080/"
        },
        "id": "o0BmhercdtXO",
        "outputId": "a3e8b563-0235-41b1-90bc-5ed28edfd5f0"
      },
      "execution_count": 3,
      "outputs": [
        {
          "output_type": "stream",
          "name": "stdout",
          "text": [
            "Histogram: {'1.20 - 2.52': 4, '2.52 - 3.84': 1, '3.84 - 5.16': 2, '5.16 - 6.48': 1, '6.48 - 7.80': 2}\n"
          ]
        }
      ]
    },
    {
      "cell_type": "code",
      "source": [
        "from typing import List, Dict\n",
        "import matplotlib.pyplot as plt\n",
        "\n",
        "def create_histogram(data: List[float], bins: int) -> Dict[str, int]:\n",
        "    if bins <= 0:\n",
        "        raise ValueError(\"Number of bins must be a positive integer.\")\n",
        "    if not data:\n",
        "        return {}\n",
        "\n",
        "    min_data = min(data)\n",
        "    max_data = max(data)\n",
        "\n",
        "    # Calculate the bin width\n",
        "    bin_width = (max_data - min_data) / bins\n",
        "\n",
        "    # Initialize the histogram dictionary\n",
        "    histogram = {f\"{min_data + i * bin_width:.2f} - {min_data + (i + 1) * bin_width:.2f}\": 0 for i in range(bins)}\n",
        "\n",
        "    # Count the data points in each bin\n",
        "    for value in data:\n",
        "        # Determine which bin the value falls into\n",
        "        bin_index = int((value - min_data) / bin_width)\n",
        "        if bin_index == bins:  # Edge case for the maximum value\n",
        "            bin_index -= 1\n",
        "        # Update the count in the appropriate bin\n",
        "        bin_key = f\"{min_data + bin_index * bin_width:.2f} - {min_data + (bin_index + 1) * bin_width:.2f}\"\n",
        "        histogram[bin_key] += 1\n",
        "\n",
        "    return histogram\n",
        "\n",
        "def plot_histogram(data: List[float], bins: int) -> None:\n",
        "    histogram = create_histogram(data, bins)\n",
        "\n",
        "    # Prepare data for plotting\n",
        "    bin_labels = list(histogram.keys())\n",
        "    counts = list(histogram.values())\n",
        "\n",
        "    # Create the bar plot\n",
        "    plt.figure(figsize=(10, 6))\n",
        "    plt.bar(bin_labels, counts, width=0.6, color='skyblue', edgecolor='black')\n",
        "    plt.xlabel('Bins')\n",
        "    plt.ylabel('Counts')\n",
        "    plt.title('Histogram of Data Distribution')\n",
        "    plt.xticks(rotation=45)\n",
        "    plt.tight_layout()  # Adjust layout for better fit\n",
        "    plt.show()\n",
        "\n",
        "# Example usage\n",
        "data = [1.2, 2.4, 2.2, 3.5, 4.0, 5.5, 6.7, 7.8, 2.3, 4.6]\n",
        "bins = 5\n",
        "\n",
        "plot_histogram(data, bins)"
      ],
      "metadata": {
        "colab": {
          "base_uri": "https://localhost:8080/",
          "height": 607
        },
        "id": "knI-9FTHd98B",
        "outputId": "ee99feb7-2bcb-4c90-be78-f415279f70d4"
      },
      "execution_count": 4,
      "outputs": [
        {
          "output_type": "display_data",
          "data": {
            "text/plain": [
              "<Figure size 1000x600 with 1 Axes>"
            ],
            "image/png": "[encoded data removed]"
          },
          "metadata": {}
        }
      ]
    },
    {
      "cell_type": "markdown",
      "source": [
        "11. Implement a Decision Tree Classifier"
      ],
      "metadata": {
        "id": "1Oat-7kUeAmN"
      }
    },
    {
      "cell_type": "code",
      "source": [
        "from typing import List, Tuple, Any, Dict\n",
        "import numpy as np\n",
        "\n",
        "class DecisionNode:\n",
        "    def __init__(self, feature_index: int = None, threshold: float = None, left: Any = None, right: Any = None, value: str = None):\n",
        "        self.feature_index = feature_index\n",
        "        self.threshold = threshold\n",
        "        self.left = left\n",
        "        self.right = right\n",
        "        self.value = value\n",
        "\n",
        "def gini_impurity(y: List[str]) -> float:\n",
        "    classes, counts = np.unique(y, return_counts=True)\n",
        "    impurity = 1 - sum((count / len(y)) ** 2 for count in counts)\n",
        "    return impurity\n",
        "\n",
        "def best_split(X: List[List[float]], y: List[str]) -> Tuple[int, float]:\n",
        "    best_gain = 0\n",
        "    best_index, best_threshold = None, None\n",
        "    n_features = len(X[0])\n",
        "\n",
        "    for feature_index in range(n_features):\n",
        "        thresholds = set([x[feature_index] for x in X])\n",
        "\n",
        "        for threshold in thresholds:\n",
        "            left_indices = [i for i in range(len(X)) if X[i][feature_index] <= threshold]\n",
        "            right_indices = [i for i in range(len(X)) if X[i][feature_index] > threshold]\n",
        "\n",
        "            if not left_indices or not right_indices:\n",
        "                continue\n",
        "\n",
        "            left_y = [y[i] for i in left_indices]\n",
        "            right_y = [y[i] for i in right_indices]\n",
        "\n",
        "            gain = gini_impurity(y) - (len(left_y) / len(y) * gini_impurity(left_y) + len(right_y) / len(y) * gini_impurity(right_y))\n",
        "\n",
        "            if gain > best_gain:\n",
        "                best_gain = gain\n",
        "                best_index = feature_index\n",
        "                best_threshold = threshold\n",
        "\n",
        "    return best_index, best_threshold\n",
        "\n",
        "def build_tree(X: List[List[float]], y: List[str], depth: int = 0, max_depth: int = None) -> DecisionNode:\n",
        "    if len(set(y)) == 1 or (max_depth is not None and depth >= max_depth):\n",
        "        return DecisionNode(value=y[0])\n",
        "\n",
        "    feature_index, threshold = best_split(X, y)\n",
        "    if feature_index is None:\n",
        "        return DecisionNode(value=max(set(y), key=y.count))\n",
        "\n",
        "    left_indices = [i for i in range(len(X)) if X[i][feature_index] <= threshold]\n",
        "    right_indices = [i for i in range(len(X)) if X[i][feature_index] > threshold]\n",
        "\n",
        "    left_node = build_tree([X[i] for i in left_indices], [y[i] for i in left_indices], depth + 1, max_depth)\n",
        "    right_node = build_tree([X[i] for i in right_indices], [y[i] for i in right_indices], depth + 1, max_depth)\n",
        "\n",
        "    return DecisionNode(feature_index, threshold, left_node, right_node)\n",
        "\n",
        "def predict(node: DecisionNode, x: List[float]) -> str:\n",
        "    if node.value is not None:\n",
        "        return node.value\n",
        "    if x[node.feature_index] <= node.threshold:\n",
        "        return predict(node.left, x)\n",
        "    else:\n",
        "        return predict(node.right, x)\n",
        "\n",
        "def decision_tree_classifier(data_points: List[Tuple[List[float], str]], new_point: List[float]) -> str:\n",
        "    X = [point[0] for point in data_points]\n",
        "    y = [point[1] for point in data_points]\n",
        "\n",
        "    tree = build_tree(X, y)\n",
        "    return predict(tree, new_point)\n",
        "\n",
        "# Example usage\n",
        "data_points = [\n",
        "    ([2.0, 3.0], 'A'),\n",
        "    ([1.0, 1.0], 'A'),\n",
        "    ([4.0, 5.0], 'B'),\n",
        "    ([5.0, 4.0], 'B'),\n",
        "    ([3.0, 2.0], 'A'),\n",
        "]\n",
        "\n",
        "new_point = [4.5, 4.5]\n",
        "\n",
        "predicted_label = decision_tree_classifier(data_points, new_point)\n",
        "print(\"Predicted label:\", predicted_label)  # Output: Predicted label for the new point"
      ],
      "metadata": {
        "colab": {
          "base_uri": "https://localhost:8080/"
        },
        "id": "r65wYIzxeDCa",
        "outputId": "33a84a76-3fbb-40ab-8b89-57d0b4e90b1b"
      },
      "execution_count": 5,
      "outputs": [
        {
          "output_type": "stream",
          "name": "stdout",
          "text": [
            "Predicted label: B\n"
          ]
        }
      ]
    },
    {
      "cell_type": "markdown",
      "source": [
        "12. Normalize Data Using Min-Max Scaling"
      ],
      "metadata": {
        "id": "-bxbCZ7DeQDO"
      }
    },
    {
      "cell_type": "code",
      "source": [
        "from typing import List\n",
        "\n",
        "def min_max_normalization(data: List[float]) -> List[float]:\n",
        "    if not data:\n",
        "        return []\n",
        "\n",
        "    min_value = min(data)\n",
        "    max_value = max(data)\n",
        "\n",
        "    # Handle the case where all values are the same\n",
        "    if min_value == max_value:\n",
        "        return [0.0] * len(data)  # All values become 0 in this case\n",
        "\n",
        "    normalized_data = [(x - min_value) / (max_value - min_value) for x in data]\n",
        "\n",
        "    return normalized_data\n",
        "\n",
        "# Example usage\n",
        "data = [1.0, 2.0, 3.0, 4.0, 5.0]\n",
        "normalized = min_max_normalization(data)\n",
        "print(\"Normalized data:\", normalized)  # Output: Normalized values"
      ],
      "metadata": {
        "colab": {
          "base_uri": "https://localhost:8080/"
        },
        "id": "ilCzWpJ-eUYY",
        "outputId": "2a9e93af-28d1-40db-f824-ff5cd0ac4dd4"
      },
      "execution_count": 6,
      "outputs": [
        {
          "output_type": "stream",
          "name": "stdout",
          "text": [
            "Normalized data: [0.0, 0.25, 0.5, 0.75, 1.0]\n"
          ]
        }
      ]
    },
    {
      "cell_type": "markdown",
      "source": [
        "13. Calculate Euclidean Distance Between Two Points"
      ],
      "metadata": {
        "id": "4U71xeBCedif"
      }
    },
    {
      "cell_type": "code",
      "source": [
        "from typing import List\n",
        "import math\n",
        "\n",
        "def euclidean_distance(point1: List[float], point2: List[float]) -> float:\n",
        "    if len(point1) != len(point2):\n",
        "        raise ValueError(\"Both points must have the same number of dimensions.\")\n",
        "\n",
        "    # Calculate the sum of squared differences\n",
        "    squared_diff_sum = sum((x - y) ** 2 for x, y in zip(point1, point2))\n",
        "\n",
        "    # Return the square root of the sum\n",
        "    return math.sqrt(squared_diff_sum)\n",
        "\n",
        "# Example usage\n",
        "point1 = [1.0, 2.0, 3.0]\n",
        "point2 = [4.0, 5.0, 6.0]\n",
        "\n",
        "distance = euclidean_distance(point1, point2)\n",
        "print(\"Euclidean Distance:\", distance)  # Output: Euclidean Distance"
      ],
      "metadata": {
        "colab": {
          "base_uri": "https://localhost:8080/"
        },
        "id": "cUV-LXVGegbM",
        "outputId": "5d49013b-0337-4af4-a650-66667cd161c2"
      },
      "execution_count": 7,
      "outputs": [
        {
          "output_type": "stream",
          "name": "stdout",
          "text": [
            "Euclidean Distance: 5.196152422706632\n"
          ]
        }
      ]
    }
  ]
}