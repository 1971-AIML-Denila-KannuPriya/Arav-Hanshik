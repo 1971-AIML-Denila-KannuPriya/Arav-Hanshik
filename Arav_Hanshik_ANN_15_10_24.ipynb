{
  "nbformat": 4,
  "nbformat_minor": 0,
  "metadata": {
    "colab": {
      "provenance": []
    },
    "kernelspec": {
      "name": "python3",
      "display_name": "Python 3"
    },
    "language_info": {
      "name": "python"
    }
  },
  "cells": [
    {
      "cell_type": "markdown",
      "source": [
        "What is the name of the function used to create a dense layer?"
      ],
      "metadata": {
        "id": "0kpMuAQYCJBo"
      }
    },
    {
      "cell_type": "code",
      "execution_count": 20,
      "metadata": {
        "id": "v7tlMGrzCCW6"
      },
      "outputs": [],
      "source": [
        "from tensorflow.keras.layers import Dense\n",
        "\n",
        "dense_layer = Dense(units=64, activation='relu')"
      ]
    },
    {
      "cell_type": "markdown",
      "source": [
        "How do you create an input layer in Keras?"
      ],
      "metadata": {
        "id": "hwbiHxuBCobT"
      }
    },
    {
      "cell_type": "code",
      "source": [
        "from tensorflow.keras.layers import Input\n",
        "\n",
        "# Define the input shape\n",
        "input_shape = (32,)  # Example: 32-dimensional input\n",
        "\n",
        "# Create the input layer\n",
        "input_layer = Input(shape=input_shape)\n"
      ],
      "metadata": {
        "id": "s0W3el8HCpSc"
      },
      "execution_count": 21,
      "outputs": []
    },
    {
      "cell_type": "markdown",
      "source": [
        "How do you add a Dropout layer in Keras?"
      ],
      "metadata": {
        "id": "FFMG5vkYC2dG"
      }
    },
    {
      "cell_type": "code",
      "source": [
        "from tensorflow.keras.models import Sequential\n",
        "from tensorflow.keras.layers import Dense, Dropout\n",
        "\n",
        "model = Sequential()\n",
        "model.add(Dense(64, activation='relu', input_shape=(32,)))\n",
        "model.add(Dropout(0.5))  # Dropout with 50% rate\n"
      ],
      "metadata": {
        "id": "ioT-GYMMC3Gb"
      },
      "execution_count": 22,
      "outputs": []
    },
    {
      "cell_type": "markdown",
      "source": [
        "What is the function to create a convolutional layer in Keras?"
      ],
      "metadata": {
        "id": "d_twB9nDC906"
      }
    },
    {
      "cell_type": "code",
      "source": [
        "from tensorflow.keras.layers import Conv2D\n",
        "\n",
        "# Create a convolutional layer\n",
        "conv_layer = Conv2D(filters=32, kernel_size=(3, 3), activation='relu', input_shape=(64, 64, 3))\n"
      ],
      "metadata": {
        "id": "9j6m85h0C-f6"
      },
      "execution_count": 23,
      "outputs": []
    },
    {
      "cell_type": "markdown",
      "source": [
        "How do you create a max pooling layer in Keras?"
      ],
      "metadata": {
        "id": "QtDMf7zyDC9U"
      }
    },
    {
      "cell_type": "code",
      "source": [
        "from tensorflow.keras.models import Sequential\n",
        "from tensorflow.keras.layers import Conv2D, MaxPooling2D\n",
        "\n",
        "model = Sequential()\n",
        "model.add(Conv2D(32, kernel_size=(3, 3), activation='relu', input_shape=(64, 64, 3)))\n",
        "model.add(MaxPooling2D(pool_size=(2, 2)))\n"
      ],
      "metadata": {
        "id": "IIgzFQX1DGM1"
      },
      "execution_count": 24,
      "outputs": []
    },
    {
      "cell_type": "markdown",
      "source": [
        "What is the function used to flatten inputs in Keras?"
      ],
      "metadata": {
        "id": "20F_P42YDJwu"
      }
    },
    {
      "cell_type": "code",
      "source": [
        "from tensorflow.keras.models import Sequential\n",
        "from tensorflow.keras.layers import Conv2D, MaxPooling2D, Flatten, Dense\n",
        "\n",
        "model = Sequential()\n",
        "model.add(Conv2D(32, kernel_size=(3, 3), activation='relu', input_shape=(64, 64, 3)))\n",
        "model.add(MaxPooling2D(pool_size=(2, 2)))\n",
        "model.add(Flatten())  # Flatten the 2D feature maps to 1D\n",
        "model.add(Dense(64, activation='relu'))  # Fully connected layer\n"
      ],
      "metadata": {
        "id": "7iXlvi6JDNxP"
      },
      "execution_count": 25,
      "outputs": []
    },
    {
      "cell_type": "markdown",
      "source": [
        "How do you compile a model in Keras?"
      ],
      "metadata": {
        "id": "jbkZNCvpDQ5T"
      }
    },
    {
      "cell_type": "code",
      "source": [
        "from tensorflow.keras.models import Sequential\n",
        "from tensorflow.keras.layers import Dense\n",
        "\n",
        "model = Sequential()\n",
        "model.add(Dense(64, activation='relu', input_shape=(32,)))\n",
        "model.add(Dense(10, activation='softmax'))\n",
        "\n",
        "# Compile the model\n",
        "model.compile(optimizer='adam', loss='categorical_crossentropy', metrics=['accuracy'])\n"
      ],
      "metadata": {
        "id": "Uweyw6oEDUtZ"
      },
      "execution_count": 26,
      "outputs": []
    },
    {
      "cell_type": "markdown",
      "source": [
        "How do you define an optimizer in Keras?"
      ],
      "metadata": {
        "id": "mXOrCkUIDXYm"
      }
    },
    {
      "cell_type": "code",
      "source": [
        "from tensorflow.keras.optimizers import Adam\n",
        "\n",
        "# Define the optimizer\n",
        "optimizer = Adam(learning_rate=0.001)\n",
        "\n",
        "# Compile the model with the defined optimizer\n",
        "model.compile(optimizer=optimizer, loss='categorical_crossentropy', metrics=['accuracy'])\n"
      ],
      "metadata": {
        "id": "M6Cc7tP9DaI4"
      },
      "execution_count": 27,
      "outputs": []
    },
    {
      "cell_type": "markdown",
      "source": [
        "What is the function used to apply batch normalization in Keras?"
      ],
      "metadata": {
        "id": "8Zj_SejpDcTn"
      }
    },
    {
      "cell_type": "code",
      "source": [
        "from tensorflow.keras.models import Sequential\n",
        "from tensorflow.keras.layers import Dense, BatchNormalization\n",
        "\n",
        "model = Sequential()\n",
        "model.add(Dense(64, activation='relu', input_shape=(32,)))\n",
        "model.add(BatchNormalization())  # Apply batch normalization\n",
        "model.add(Dense(10, activation='softmax'))\n"
      ],
      "metadata": {
        "id": "tDzGTz-pDg6R"
      },
      "execution_count": 28,
      "outputs": []
    },
    {
      "cell_type": "markdown",
      "source": [
        "How do you add an LSTM layer in Keras?"
      ],
      "metadata": {
        "id": "kehegft7DjSQ"
      }
    },
    {
      "cell_type": "code",
      "source": [
        "from tensorflow.keras.models import Sequential\n",
        "from tensorflow.keras.layers import LSTM, Dense\n",
        "\n",
        "model = Sequential()\n",
        "model.add(LSTM(units=50, input_shape=(100, 1)))  # Sequence length of 100 and 1 feature\n",
        "model.add(Dense(1, activation='sigmoid'))  # Output layer\n"
      ],
      "metadata": {
        "id": "q1-aTNP6DnNw"
      },
      "execution_count": 29,
      "outputs": []
    },
    {
      "cell_type": "markdown",
      "source": [
        "How do you create a simple RNN layer in Keras?"
      ],
      "metadata": {
        "id": "1AD4Dv3kDpiu"
      }
    },
    {
      "cell_type": "code",
      "source": [
        "from tensorflow.keras.models import Sequential\n",
        "from tensorflow.keras.layers import SimpleRNN, Dense\n",
        "\n",
        "model = Sequential()\n",
        "model.add(SimpleRNN(units=50, input_shape=(10, 1)))  # Sequence length of 10 and 1 feature\n",
        "model.add(Dense(1, activation='sigmoid'))  # Output layer\n"
      ],
      "metadata": {
        "id": "vLdG9xnaDsXl"
      },
      "execution_count": 30,
      "outputs": []
    },
    {
      "cell_type": "markdown",
      "source": [
        "How do you define a bidirectional LSTM in Keras?"
      ],
      "metadata": {
        "id": "n4frRKDeD0iD"
      }
    },
    {
      "cell_type": "code",
      "source": [
        "from tensorflow.keras.models import Sequential\n",
        "from tensorflow.keras.layers import Dense, Bidirectional, LSTM\n",
        "\n",
        "model = Sequential()\n",
        "model.add(Bidirectional(LSTM(units=50), input_shape=(10, 1)))  # Sequence length of 10 and 1 feature\n",
        "model.add(Dense(1, activation='sigmoid'))  # Output layer\n"
      ],
      "metadata": {
        "id": "yzEei4IeD3jj"
      },
      "execution_count": 31,
      "outputs": []
    },
    {
      "cell_type": "markdown",
      "source": [
        "How do you use an Embedding layer for text input in Keras?"
      ],
      "metadata": {
        "id": "y1ZpkZ8SD5gc"
      }
    },
    {
      "cell_type": "code",
      "source": [
        "from tensorflow.keras.models import Sequential\n",
        "from tensorflow.keras.layers import Embedding, LSTM, Dense\n",
        "\n",
        "# Define parameters\n",
        "vocab_size = 1000  # Size of the vocabulary\n",
        "embedding_dim = 32  # Dimension of the embedding vector\n",
        "\n",
        "# Create the model\n",
        "model = Sequential()\n",
        "model.add(Embedding(input_dim=vocab_size, output_dim=embedding_dim, input_length=10))  # Embedding layer\n",
        "model.add(LSTM(units=50))  # LSTM layer\n",
        "model.add(Dense(1, activation='sigmoid'))  # Output layer for binary classification\n",
        "\n",
        "# Compile the model\n",
        "model.compile(optimizer='adam', loss='binary_crossentropy', metrics=['accuracy'])\n"
      ],
      "metadata": {
        "id": "dKfWV_PjD7sK"
      },
      "execution_count": 32,
      "outputs": []
    },
    {
      "cell_type": "markdown",
      "source": [
        "How do you reshape inputs using Keras?"
      ],
      "metadata": {
        "id": "jlGFem_MEJOF"
      }
    },
    {
      "cell_type": "code",
      "source": [
        "from tensorflow.keras.layers import Reshape\n",
        "\n",
        "# Create a model\n",
        "model = Sequential()\n",
        "\n",
        "# Suppose you have a tensor of shape (batch_size, 10) and you want to reshape it to (batch_size, 2, 5)\n",
        "model.add(Reshape((2, 5), input_shape=(10,)))\n"
      ],
      "metadata": {
        "id": "GXSRcIZwEI9Q"
      },
      "execution_count": 33,
      "outputs": []
    },
    {
      "cell_type": "markdown",
      "source": [
        "What function is used to implement early stopping in Keras?"
      ],
      "metadata": {
        "id": "ee1iBjjOEQR1"
      }
    },
    {
      "cell_type": "code",
      "source": [
        "from tensorflow.keras.callbacks import EarlyStopping\n",
        "\n",
        "# Create an EarlyStopping callback\n",
        "early_stopping = EarlyStopping(monitor='val_loss', patience=3, restore_best_weights=True)\n"
      ],
      "metadata": {
        "id": "7LhmXR1LETy4"
      },
      "execution_count": 34,
      "outputs": []
    },
    {
      "cell_type": "markdown",
      "source": [
        "How do you add a custom metric in Keras?"
      ],
      "metadata": {
        "id": "TNxyTn70EYMF"
      }
    },
    {
      "cell_type": "code",
      "source": [
        "import numpy as np\n",
        "from sklearn.model_selection import train_test_split\n",
        "from tensorflow.keras.models import Sequential\n",
        "from tensorflow.keras.layers import Dense\n",
        "import tensorflow as tf\n",
        "\n",
        "def custom_metric(y_true, y_pred):\n",
        "    # Convert y_true to float32 to match the type of y_pred\n",
        "    y_true = tf.cast(y_true, tf.float32)\n",
        "    return tf.reduce_mean(tf.square(y_true - y_pred))\n",
        "\n",
        "# Generate synthetic data\n",
        "X = np.random.rand(1000, 32)  # 1000 samples, 32 features\n",
        "y = np.random.randint(0, 2, size=(1000,))  # Binary target variable (0 or 1)\n",
        "\n",
        "# Split the data into training and validation sets\n",
        "X_train, X_val, y_train, y_val = train_test_split(X, y, test_size=0.2, random_state=42)\n",
        "\n",
        "# Create a simple model\n",
        "model = Sequential()\n",
        "model.add(Dense(64, activation='relu', input_shape=(32,)))\n",
        "model.add(Dense(1, activation='sigmoid'))\n",
        "\n",
        "# Compile the model with the custom metric\n",
        "model.compile(optimizer='adam',\n",
        "              loss='binary_crossentropy',\n",
        "              metrics=['accuracy', custom_metric])\n",
        "\n",
        "# Fit the model\n",
        "model.fit(X_train, y_train, validation_data=(X_val, y_val), epochs=50)\n"
      ],
      "metadata": {
        "colab": {
          "base_uri": "https://localhost:8080/"
        },
        "id": "iPiXpyCzEYhV",
        "outputId": "ae0586d1-7beb-4264-c4f8-306268f0f598"
      },
      "execution_count": 41,
      "outputs": [
        {
          "output_type": "stream",
          "name": "stdout",
          "text": [
            "Epoch 1/50\n",
            "\u001b[1m25/25\u001b[0m \u001b[32m━━━━━━━━━━━━━━━━━━━━\u001b[0m\u001b[37m\u001b[0m \u001b[1m1s\u001b[0m 11ms/step - accuracy: 0.4831 - custom_metric: 0.2695 - loss: 0.7360 - val_accuracy: 0.5100 - val_custom_metric: 0.2551 - val_loss: 0.7022\n",
            "Epoch 2/50\n",
            "\u001b[1m25/25\u001b[0m \u001b[32m━━━━━━━━━━━━━━━━━━━━\u001b[0m\u001b[37m\u001b[0m \u001b[1m0s\u001b[0m 3ms/step - accuracy: 0.5280 - custom_metric: 0.2532 - loss: 0.6946 - val_accuracy: 0.4700 - val_custom_metric: 0.2516 - val_loss: 0.6976\n",
            "Epoch 3/50\n",
            "\u001b[1m25/25\u001b[0m \u001b[32m━━━━━━━━━━━━━━━━━━━━\u001b[0m\u001b[37m\u001b[0m \u001b[1m0s\u001b[0m 3ms/step - accuracy: 0.5260 - custom_metric: 0.2512 - loss: 0.6891 - val_accuracy: 0.4950 - val_custom_metric: 0.2517 - val_loss: 0.6962\n",
            "Epoch 4/50\n",
            "\u001b[1m25/25\u001b[0m \u001b[32m━━━━━━━━━━━━━━━━━━━━\u001b[0m\u001b[37m\u001b[0m \u001b[1m0s\u001b[0m 3ms/step - accuracy: 0.5622 - custom_metric: 0.2503 - loss: 0.6861 - val_accuracy: 0.5200 - val_custom_metric: 0.2528 - val_loss: 0.6971\n",
            "Epoch 5/50\n",
            "\u001b[1m25/25\u001b[0m \u001b[32m━━━━━━━━━━━━━━━━━━━━\u001b[0m\u001b[37m\u001b[0m \u001b[1m0s\u001b[0m 3ms/step - accuracy: 0.5678 - custom_metric: 0.2496 - loss: 0.6785 - val_accuracy: 0.4700 - val_custom_metric: 0.2522 - val_loss: 0.6992\n",
            "Epoch 6/50\n",
            "\u001b[1m25/25\u001b[0m \u001b[32m━━━━━━━━━━━━━━━━━━━━\u001b[0m\u001b[37m\u001b[0m \u001b[1m0s\u001b[0m 4ms/step - accuracy: 0.5905 - custom_metric: 0.2516 - loss: 0.6817 - val_accuracy: 0.5000 - val_custom_metric: 0.2530 - val_loss: 0.6982\n",
            "Epoch 7/50\n",
            "\u001b[1m25/25\u001b[0m \u001b[32m━━━━━━━━━━━━━━━━━━━━\u001b[0m\u001b[37m\u001b[0m \u001b[1m0s\u001b[0m 4ms/step - accuracy: 0.5548 - custom_metric: 0.2520 - loss: 0.6782 - val_accuracy: 0.4750 - val_custom_metric: 0.2527 - val_loss: 0.6985\n",
            "Epoch 8/50\n",
            "\u001b[1m25/25\u001b[0m \u001b[32m━━━━━━━━━━━━━━━━━━━━\u001b[0m\u001b[37m\u001b[0m \u001b[1m0s\u001b[0m 8ms/step - accuracy: 0.5551 - custom_metric: 0.2522 - loss: 0.6814 - val_accuracy: 0.5300 - val_custom_metric: 0.2538 - val_loss: 0.7001\n",
            "Epoch 9/50\n",
            "\u001b[1m25/25\u001b[0m \u001b[32m━━━━━━━━━━━━━━━━━━━━\u001b[0m\u001b[37m\u001b[0m \u001b[1m0s\u001b[0m 5ms/step - accuracy: 0.5712 - custom_metric: 0.2518 - loss: 0.6777 - val_accuracy: 0.4550 - val_custom_metric: 0.2531 - val_loss: 0.7004\n",
            "Epoch 10/50\n",
            "\u001b[1m25/25\u001b[0m \u001b[32m━━━━━━━━━━━━━━━━━━━━\u001b[0m\u001b[37m\u001b[0m \u001b[1m0s\u001b[0m 5ms/step - accuracy: 0.5801 - custom_metric: 0.2512 - loss: 0.6728 - val_accuracy: 0.4850 - val_custom_metric: 0.2531 - val_loss: 0.7015\n",
            "Epoch 11/50\n",
            "\u001b[1m25/25\u001b[0m \u001b[32m━━━━━━━━━━━━━━━━━━━━\u001b[0m\u001b[37m\u001b[0m \u001b[1m0s\u001b[0m 4ms/step - accuracy: 0.5996 - custom_metric: 0.2509 - loss: 0.6682 - val_accuracy: 0.4750 - val_custom_metric: 0.2536 - val_loss: 0.7013\n",
            "Epoch 12/50\n",
            "\u001b[1m25/25\u001b[0m \u001b[32m━━━━━━━━━━━━━━━━━━━━\u001b[0m\u001b[37m\u001b[0m \u001b[1m0s\u001b[0m 5ms/step - accuracy: 0.5938 - custom_metric: 0.2546 - loss: 0.6775 - val_accuracy: 0.4850 - val_custom_metric: 0.2543 - val_loss: 0.7027\n",
            "Epoch 13/50\n",
            "\u001b[1m25/25\u001b[0m \u001b[32m━━━━━━━━━━━━━━━━━━━━\u001b[0m\u001b[37m\u001b[0m \u001b[1m0s\u001b[0m 6ms/step - accuracy: 0.5920 - custom_metric: 0.2525 - loss: 0.6693 - val_accuracy: 0.4600 - val_custom_metric: 0.2538 - val_loss: 0.7038\n",
            "Epoch 14/50\n",
            "\u001b[1m25/25\u001b[0m \u001b[32m━━━━━━━━━━━━━━━━━━━━\u001b[0m\u001b[37m\u001b[0m \u001b[1m0s\u001b[0m 6ms/step - accuracy: 0.6092 - custom_metric: 0.2524 - loss: 0.6660 - val_accuracy: 0.4750 - val_custom_metric: 0.2546 - val_loss: 0.7048\n",
            "Epoch 15/50\n",
            "\u001b[1m25/25\u001b[0m \u001b[32m━━━━━━━━━━━━━━━━━━━━\u001b[0m\u001b[37m\u001b[0m \u001b[1m0s\u001b[0m 7ms/step - accuracy: 0.5987 - custom_metric: 0.2538 - loss: 0.6728 - val_accuracy: 0.4850 - val_custom_metric: 0.2547 - val_loss: 0.7056\n",
            "Epoch 16/50\n",
            "\u001b[1m25/25\u001b[0m \u001b[32m━━━━━━━━━━━━━━━━━━━━\u001b[0m\u001b[37m\u001b[0m \u001b[1m0s\u001b[0m 5ms/step - accuracy: 0.5903 - custom_metric: 0.2549 - loss: 0.6700 - val_accuracy: 0.4700 - val_custom_metric: 0.2554 - val_loss: 0.7064\n",
            "Epoch 17/50\n",
            "\u001b[1m25/25\u001b[0m \u001b[32m━━━━━━━━━━━━━━━━━━━━\u001b[0m\u001b[37m\u001b[0m \u001b[1m0s\u001b[0m 6ms/step - accuracy: 0.6094 - custom_metric: 0.2518 - loss: 0.6651 - val_accuracy: 0.4500 - val_custom_metric: 0.2548 - val_loss: 0.7067\n",
            "Epoch 18/50\n",
            "\u001b[1m25/25\u001b[0m \u001b[32m━━━━━━━━━━━━━━━━━━━━\u001b[0m\u001b[37m\u001b[0m \u001b[1m0s\u001b[0m 4ms/step - accuracy: 0.6163 - custom_metric: 0.2546 - loss: 0.6574 - val_accuracy: 0.4450 - val_custom_metric: 0.2552 - val_loss: 0.7084\n",
            "Epoch 19/50\n",
            "\u001b[1m25/25\u001b[0m \u001b[32m━━━━━━━━━━━━━━━━━━━━\u001b[0m\u001b[37m\u001b[0m \u001b[1m0s\u001b[0m 3ms/step - accuracy: 0.6034 - custom_metric: 0.2549 - loss: 0.6676 - val_accuracy: 0.5100 - val_custom_metric: 0.2577 - val_loss: 0.7107\n",
            "Epoch 20/50\n",
            "\u001b[1m25/25\u001b[0m \u001b[32m━━━━━━━━━━━━━━━━━━━━\u001b[0m\u001b[37m\u001b[0m \u001b[1m0s\u001b[0m 4ms/step - accuracy: 0.6160 - custom_metric: 0.2571 - loss: 0.6598 - val_accuracy: 0.4700 - val_custom_metric: 0.2562 - val_loss: 0.7104\n",
            "Epoch 21/50\n",
            "\u001b[1m25/25\u001b[0m \u001b[32m━━━━━━━━━━━━━━━━━━━━\u001b[0m\u001b[37m\u001b[0m \u001b[1m0s\u001b[0m 3ms/step - accuracy: 0.6113 - custom_metric: 0.2566 - loss: 0.6563 - val_accuracy: 0.5150 - val_custom_metric: 0.2582 - val_loss: 0.7133\n",
            "Epoch 22/50\n",
            "\u001b[1m25/25\u001b[0m \u001b[32m━━━━━━━━━━━━━━━━━━━━\u001b[0m\u001b[37m\u001b[0m \u001b[1m0s\u001b[0m 3ms/step - accuracy: 0.5804 - custom_metric: 0.2549 - loss: 0.6585 - val_accuracy: 0.4350 - val_custom_metric: 0.2560 - val_loss: 0.7143\n",
            "Epoch 23/50\n",
            "\u001b[1m25/25\u001b[0m \u001b[32m━━━━━━━━━━━━━━━━━━━━\u001b[0m\u001b[37m\u001b[0m \u001b[1m0s\u001b[0m 3ms/step - accuracy: 0.6599 - custom_metric: 0.2550 - loss: 0.6547 - val_accuracy: 0.5000 - val_custom_metric: 0.2584 - val_loss: 0.7138\n",
            "Epoch 24/50\n",
            "\u001b[1m25/25\u001b[0m \u001b[32m━━━━━━━━━━━━━━━━━━━━\u001b[0m\u001b[37m\u001b[0m \u001b[1m0s\u001b[0m 3ms/step - accuracy: 0.6441 - custom_metric: 0.2546 - loss: 0.6457 - val_accuracy: 0.4450 - val_custom_metric: 0.2565 - val_loss: 0.7145\n",
            "Epoch 25/50\n",
            "\u001b[1m25/25\u001b[0m \u001b[32m━━━━━━━━━━━━━━━━━━━━\u001b[0m\u001b[37m\u001b[0m \u001b[1m0s\u001b[0m 3ms/step - accuracy: 0.6718 - custom_metric: 0.2574 - loss: 0.6470 - val_accuracy: 0.4500 - val_custom_metric: 0.2567 - val_loss: 0.7159\n",
            "Epoch 26/50\n",
            "\u001b[1m25/25\u001b[0m \u001b[32m━━━━━━━━━━━━━━━━━━━━\u001b[0m\u001b[37m\u001b[0m \u001b[1m0s\u001b[0m 3ms/step - accuracy: 0.6463 - custom_metric: 0.2559 - loss: 0.6490 - val_accuracy: 0.5000 - val_custom_metric: 0.2598 - val_loss: 0.7185\n",
            "Epoch 27/50\n",
            "\u001b[1m25/25\u001b[0m \u001b[32m━━━━━━━━━━━━━━━━━━━━\u001b[0m\u001b[37m\u001b[0m \u001b[1m0s\u001b[0m 4ms/step - accuracy: 0.6097 - custom_metric: 0.2605 - loss: 0.6581 - val_accuracy: 0.4750 - val_custom_metric: 0.2580 - val_loss: 0.7165\n",
            "Epoch 28/50\n",
            "\u001b[1m25/25\u001b[0m \u001b[32m━━━━━━━━━━━━━━━━━━━━\u001b[0m\u001b[37m\u001b[0m \u001b[1m0s\u001b[0m 3ms/step - accuracy: 0.6422 - custom_metric: 0.2553 - loss: 0.6367 - val_accuracy: 0.4300 - val_custom_metric: 0.2573 - val_loss: 0.7196\n",
            "Epoch 29/50\n",
            "\u001b[1m25/25\u001b[0m \u001b[32m━━━━━━━━━━━━━━━━━━━━\u001b[0m\u001b[37m\u001b[0m \u001b[1m0s\u001b[0m 3ms/step - accuracy: 0.6464 - custom_metric: 0.2586 - loss: 0.6392 - val_accuracy: 0.4700 - val_custom_metric: 0.2588 - val_loss: 0.7185\n",
            "Epoch 30/50\n",
            "\u001b[1m25/25\u001b[0m \u001b[32m━━━━━━━━━━━━━━━━━━━━\u001b[0m\u001b[37m\u001b[0m \u001b[1m0s\u001b[0m 3ms/step - accuracy: 0.6404 - custom_metric: 0.2583 - loss: 0.6423 - val_accuracy: 0.4850 - val_custom_metric: 0.2596 - val_loss: 0.7201\n",
            "Epoch 31/50\n",
            "\u001b[1m25/25\u001b[0m \u001b[32m━━━━━━━━━━━━━━━━━━━━\u001b[0m\u001b[37m\u001b[0m \u001b[1m0s\u001b[0m 3ms/step - accuracy: 0.6224 - custom_metric: 0.2598 - loss: 0.6434 - val_accuracy: 0.4400 - val_custom_metric: 0.2578 - val_loss: 0.7192\n",
            "Epoch 32/50\n",
            "\u001b[1m25/25\u001b[0m \u001b[32m━━━━━━━━━━━━━━━━━━━━\u001b[0m\u001b[37m\u001b[0m \u001b[1m0s\u001b[0m 3ms/step - accuracy: 0.6682 - custom_metric: 0.2585 - loss: 0.6408 - val_accuracy: 0.4750 - val_custom_metric: 0.2589 - val_loss: 0.7204\n",
            "Epoch 33/50\n",
            "\u001b[1m25/25\u001b[0m \u001b[32m━━━━━━━━━━━━━━━━━━━━\u001b[0m\u001b[37m\u001b[0m \u001b[1m0s\u001b[0m 4ms/step - accuracy: 0.6529 - custom_metric: 0.2587 - loss: 0.6365 - val_accuracy: 0.4300 - val_custom_metric: 0.2581 - val_loss: 0.7223\n",
            "Epoch 34/50\n",
            "\u001b[1m25/25\u001b[0m \u001b[32m━━━━━━━━━━━━━━━━━━━━\u001b[0m\u001b[37m\u001b[0m \u001b[1m0s\u001b[0m 4ms/step - accuracy: 0.6766 - custom_metric: 0.2590 - loss: 0.6300 - val_accuracy: 0.4550 - val_custom_metric: 0.2585 - val_loss: 0.7224\n",
            "Epoch 35/50\n",
            "\u001b[1m25/25\u001b[0m \u001b[32m━━━━━━━━━━━━━━━━━━━━\u001b[0m\u001b[37m\u001b[0m \u001b[1m1s\u001b[0m 29ms/step - accuracy: 0.6619 - custom_metric: 0.2595 - loss: 0.6311 - val_accuracy: 0.4950 - val_custom_metric: 0.2621 - val_loss: 0.7277\n",
            "Epoch 36/50\n",
            "\u001b[1m25/25\u001b[0m \u001b[32m━━━━━━━━━━━━━━━━━━━━\u001b[0m\u001b[37m\u001b[0m \u001b[1m1s\u001b[0m 4ms/step - accuracy: 0.6547 - custom_metric: 0.2619 - loss: 0.6197 - val_accuracy: 0.4950 - val_custom_metric: 0.2607 - val_loss: 0.7237\n",
            "Epoch 37/50\n",
            "\u001b[1m25/25\u001b[0m \u001b[32m━━━━━━━━━━━━━━━━━━━━\u001b[0m\u001b[37m\u001b[0m \u001b[1m0s\u001b[0m 3ms/step - accuracy: 0.6313 - custom_metric: 0.2612 - loss: 0.6333 - val_accuracy: 0.4650 - val_custom_metric: 0.2598 - val_loss: 0.7255\n",
            "Epoch 38/50\n",
            "\u001b[1m25/25\u001b[0m \u001b[32m━━━━━━━━━━━━━━━━━━━━\u001b[0m\u001b[37m\u001b[0m \u001b[1m0s\u001b[0m 3ms/step - accuracy: 0.6617 - custom_metric: 0.2587 - loss: 0.6301 - val_accuracy: 0.4500 - val_custom_metric: 0.2589 - val_loss: 0.7249\n",
            "Epoch 39/50\n",
            "\u001b[1m25/25\u001b[0m \u001b[32m━━━━━━━━━━━━━━━━━━━━\u001b[0m\u001b[37m\u001b[0m \u001b[1m0s\u001b[0m 3ms/step - accuracy: 0.6804 - custom_metric: 0.2576 - loss: 0.6284 - val_accuracy: 0.4450 - val_custom_metric: 0.2592 - val_loss: 0.7277\n",
            "Epoch 40/50\n",
            "\u001b[1m25/25\u001b[0m \u001b[32m━━━━━━━━━━━━━━━━━━━━\u001b[0m\u001b[37m\u001b[0m \u001b[1m0s\u001b[0m 4ms/step - accuracy: 0.6756 - custom_metric: 0.2594 - loss: 0.6115 - val_accuracy: 0.4850 - val_custom_metric: 0.2611 - val_loss: 0.7294\n",
            "Epoch 41/50\n",
            "\u001b[1m25/25\u001b[0m \u001b[32m━━━━━━━━━━━━━━━━━━━━\u001b[0m\u001b[37m\u001b[0m \u001b[1m0s\u001b[0m 4ms/step - accuracy: 0.7064 - custom_metric: 0.2612 - loss: 0.6086 - val_accuracy: 0.4400 - val_custom_metric: 0.2595 - val_loss: 0.7295\n",
            "Epoch 42/50\n",
            "\u001b[1m25/25\u001b[0m \u001b[32m━━━━━━━━━━━━━━━━━━━━\u001b[0m\u001b[37m\u001b[0m \u001b[1m0s\u001b[0m 3ms/step - accuracy: 0.6713 - custom_metric: 0.2617 - loss: 0.6176 - val_accuracy: 0.4300 - val_custom_metric: 0.2597 - val_loss: 0.7305\n",
            "Epoch 43/50\n",
            "\u001b[1m25/25\u001b[0m \u001b[32m━━━━━━━━━━━━━━━━━━━━\u001b[0m\u001b[37m\u001b[0m \u001b[1m0s\u001b[0m 3ms/step - accuracy: 0.6991 - custom_metric: 0.2599 - loss: 0.6028 - val_accuracy: 0.4400 - val_custom_metric: 0.2610 - val_loss: 0.7372\n",
            "Epoch 44/50\n",
            "\u001b[1m25/25\u001b[0m \u001b[32m━━━━━━━━━━━━━━━━━━━━\u001b[0m\u001b[37m\u001b[0m \u001b[1m0s\u001b[0m 3ms/step - accuracy: 0.7006 - custom_metric: 0.2625 - loss: 0.6106 - val_accuracy: 0.4550 - val_custom_metric: 0.2610 - val_loss: 0.7309\n",
            "Epoch 45/50\n",
            "\u001b[1m25/25\u001b[0m \u001b[32m━━━━━━━━━━━━━━━━━━━━\u001b[0m\u001b[37m\u001b[0m \u001b[1m0s\u001b[0m 3ms/step - accuracy: 0.6966 - custom_metric: 0.2617 - loss: 0.6162 - val_accuracy: 0.4850 - val_custom_metric: 0.2619 - val_loss: 0.7318\n",
            "Epoch 46/50\n",
            "\u001b[1m25/25\u001b[0m \u001b[32m━━━━━━━━━━━━━━━━━━━━\u001b[0m\u001b[37m\u001b[0m \u001b[1m0s\u001b[0m 3ms/step - accuracy: 0.7080 - custom_metric: 0.2619 - loss: 0.5956 - val_accuracy: 0.4250 - val_custom_metric: 0.2598 - val_loss: 0.7345\n",
            "Epoch 47/50\n",
            "\u001b[1m25/25\u001b[0m \u001b[32m━━━━━━━━━━━━━━━━━━━━\u001b[0m\u001b[37m\u001b[0m \u001b[1m0s\u001b[0m 4ms/step - accuracy: 0.6714 - custom_metric: 0.2636 - loss: 0.6072 - val_accuracy: 0.4950 - val_custom_metric: 0.2619 - val_loss: 0.7351\n",
            "Epoch 48/50\n",
            "\u001b[1m25/25\u001b[0m \u001b[32m━━━━━━━━━━━━━━━━━━━━\u001b[0m\u001b[37m\u001b[0m \u001b[1m0s\u001b[0m 5ms/step - accuracy: 0.6961 - custom_metric: 0.2648 - loss: 0.6062 - val_accuracy: 0.4250 - val_custom_metric: 0.2600 - val_loss: 0.7335\n",
            "Epoch 49/50\n",
            "\u001b[1m25/25\u001b[0m \u001b[32m━━━━━━━━━━━━━━━━━━━━\u001b[0m\u001b[37m\u001b[0m \u001b[1m0s\u001b[0m 3ms/step - accuracy: 0.6963 - custom_metric: 0.2614 - loss: 0.6079 - val_accuracy: 0.5000 - val_custom_metric: 0.2658 - val_loss: 0.7420\n",
            "Epoch 50/50\n",
            "\u001b[1m25/25\u001b[0m \u001b[32m━━━━━━━━━━━━━━━━━━━━\u001b[0m\u001b[37m\u001b[0m \u001b[1m0s\u001b[0m 3ms/step - accuracy: 0.6730 - custom_metric: 0.2649 - loss: 0.5989 - val_accuracy: 0.4400 - val_custom_metric: 0.2606 - val_loss: 0.7329\n"
          ]
        },
        {
          "output_type": "execute_result",
          "data": {
            "text/plain": [
              "<keras.src.callbacks.history.History at 0x7f5609377160>"
            ]
          },
          "metadata": {},
          "execution_count": 41
        }
      ]
    },
    {
      "cell_type": "markdown",
      "source": [
        "How do you save a trained model in Keras?"
      ],
      "metadata": {
        "id": "LHlXyoWfEr8n"
      }
    },
    {
      "cell_type": "code",
      "source": [
        "model.save('model.h5')"
      ],
      "metadata": {
        "colab": {
          "base_uri": "https://localhost:8080/"
        },
        "id": "UId_2txEEsqt",
        "outputId": "dfccba96-2da6-4bbe-ea93-17c17a6c2347"
      },
      "execution_count": 36,
      "outputs": [
        {
          "output_type": "stream",
          "name": "stderr",
          "text": [
            "WARNING:absl:You are saving your model as an HDF5 file via `model.save()` or `keras.saving.save_model(model)`. This file format is considered legacy. We recommend using instead the native Keras format, e.g. `model.save('my_model.keras')` or `keras.saving.save_model(model, 'my_model.keras')`. \n"
          ]
        }
      ]
    },
    {
      "cell_type": "markdown",
      "source": [
        "How do you load a saved Keras model?"
      ],
      "metadata": {
        "id": "04ToNO3wEy65"
      }
    },
    {
      "cell_type": "code",
      "source": [
        "from tensorflow.keras.models import load_model\n",
        "\n",
        "model = load_model('model.h5')"
      ],
      "metadata": {
        "colab": {
          "base_uri": "https://localhost:8080/"
        },
        "id": "jU_1cyxzE6TA",
        "outputId": "739e4e82-59b9-4dd5-826b-a9781fcbb8f3"
      },
      "execution_count": 37,
      "outputs": [
        {
          "output_type": "stream",
          "name": "stderr",
          "text": [
            "WARNING:absl:Compiled the loaded model, but the compiled metrics have yet to be built. `model.compile_metrics` will be empty until you train or evaluate the model.\n"
          ]
        }
      ]
    },
    {
      "cell_type": "markdown",
      "source": [
        "How do you predict using a trained Keras model?"
      ],
      "metadata": {
        "id": "-vh8dJhUE0k_"
      }
    },
    {
      "cell_type": "code",
      "source": [
        "# Generate new data for prediction\n",
        "X_new = np.random.rand(5, 32)  # 5 new samples, 32 features\n",
        "\n",
        "# Predict using the trained model\n",
        "predictions = model.predict(X_new)"
      ],
      "metadata": {
        "colab": {
          "base_uri": "https://localhost:8080/"
        },
        "id": "fDNPECW1E67W",
        "outputId": "02562545-f4e3-4a75-dc46-f61d448b361a"
      },
      "execution_count": 43,
      "outputs": [
        {
          "output_type": "stream",
          "name": "stdout",
          "text": [
            "\u001b[1m1/1\u001b[0m \u001b[32m━━━━━━━━━━━━━━━━━━━━\u001b[0m\u001b[37m\u001b[0m \u001b[1m0s\u001b[0m 60ms/step\n"
          ]
        }
      ]
    },
    {
      "cell_type": "markdown",
      "source": [
        "What function is used to evaluate a Keras model?"
      ],
      "metadata": {
        "id": "WSyFj-nSE4JZ"
      }
    },
    {
      "cell_type": "code",
      "source": [
        "# Generate synthetic test data\n",
        "X_test = np.random.rand(200, 32)  # 200 samples, 32 features\n",
        "y_test = np.random.randint(0, 2, size=(200,))  # Binary target variable (0 or 1)\n",
        "\n",
        "# Evaluate the model on the test data\n",
        "loss, accuracy, custom_metric_value = model.evaluate(X_test, y_test)\n",
        "\n",
        "# Print the results\n",
        "print(f\"Test Loss: {loss}\")\n",
        "print(f\"Test Accuracy: {accuracy}\")\n",
        "print(f\"Custom Metric Value: {custom_metric_value}\")\n",
        "\n"
      ],
      "metadata": {
        "colab": {
          "base_uri": "https://localhost:8080/"
        },
        "id": "_LZVM8PIE7i0",
        "outputId": "bf2ae45c-e232-47f5-f941-e21a9dff4a65"
      },
      "execution_count": 45,
      "outputs": [
        {
          "output_type": "stream",
          "name": "stdout",
          "text": [
            "\u001b[1m7/7\u001b[0m \u001b[32m━━━━━━━━━━━━━━━━━━━━\u001b[0m\u001b[37m\u001b[0m \u001b[1m0s\u001b[0m 2ms/step - accuracy: 0.4920 - custom_metric: 0.2656 - loss: 0.7205 \n",
            "Test Loss: 0.730797290802002\n",
            "Test Accuracy: 0.47999998927116394\n",
            "Custom Metric Value: 0.26635950803756714\n"
          ]
        }
      ]
    }
  ]
}